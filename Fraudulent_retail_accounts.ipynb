{
  "nbformat": 4,
  "nbformat_minor": 0,
  "metadata": {
    "colab": {
      "name": "Fraudulent_retail_accounts.ipynb",
      "version": "0.3.2",
      "provenance": [],
      "collapsed_sections": [],
      "include_colab_link": true
    }
  },
  "cells": [
    {
      "cell_type": "markdown",
      "metadata": {
        "id": "view-in-github",
        "colab_type": "text"
      },
      "source": [
        "[View in Colaboratory](https://colab.research.google.com/github/aeevrubin/DS_questions/blob/master/Fraudulent_retail_accounts.ipynb)"
      ]
    },
    {
      "metadata": {
        "id": "vgEmFE5szT-P",
        "colab_type": "text"
      },
      "cell_type": "markdown",
      "source": [
        "# problem statement\n",
        "Question 1 - Fradulent retail accounts\n",
        "Below is a daily table for an active accounts at Shopify (an online ecommerce, retail platform).\n",
        "\n",
        "\n",
        "\n",
        "The table is called store_account and the columns are:\n",
        "\n",
        "*  Column Name\t| Data Type\t| Description\n",
        "*    store_id\t|    integer\t|    a unique Shopify store id\n",
        "*    date        |    \tstring    |    \tdate\n",
        "*    status     |    \tstring   |    \tPossible values are: [‘open’, 'closed’, ‘fraud’]\n",
        "*    revenue   |    \tdouble  |    \tAmount of spend in USDList item\n",
        "\n",
        "Here's some more information about the table:\n",
        "\n",
        "The granularity of the table is store_id and day\n",
        "Assume “close” and “fraud” are permanent labels\n",
        "Active = daily revenue > 0\n",
        "Accounts get labeled by Shopify as fraudulent and they no longer can sell product\n",
        "Every day of the table has every store_id that has ever been used by Shopify\n",
        "\n",
        "Given the above, what percent of active stores were fraudulent by day? "
      ]
    },
    {
      "metadata": {
        "id": "vMUAHS8vBhlO",
        "colab_type": "code",
        "colab": {}
      },
      "cell_type": "code",
      "source": [
        "# imports\n",
        "import pandas as pd\n",
        "import numpy as np\n",
        "import datetime"
      ],
      "execution_count": 0,
      "outputs": []
    },
    {
      "metadata": {
        "id": "wYyUyeW7zZLW",
        "colab_type": "code",
        "colab": {
          "base_uri": "https://localhost:8080/",
          "height": 328
        },
        "outputId": "3abd813e-642e-4531-878a-94e35cac45b3"
      },
      "cell_type": "code",
      "source": [
        "# assumptions: there is activity every day, there are no null values\n",
        "data_dict = {'store_id':[1254231,154321,125543,  1254231,154321,125543,  1254231,154321,125543], \n",
        "             'date': ['May 12, 2018','May 12, 2018','May 12, 2018',           \n",
        "                      'May 11, 2018','May 11, 2018','May 11, 2018',\n",
        "                      'May 10, 2018','May 10, 2018','May 10, 2018'],\n",
        "            'status': ['closed','fraud','closed', 'open','fraud','closed', 'open','open','closed' ], \n",
        "             'revenue': [4000.32, 500.08, 1600,  800.1, 500.,1,              1,2,3]}\n",
        "store_account = pd.DataFrame.from_dict(data_dict)\n",
        "new_entry={'store_id':1111, \n",
        "           'date':'May 10, 2018', \n",
        "           'status': 'open',\n",
        "            'revenue': 10.0}\n",
        "store_account.tail(len(store_account))"
      ],
      "execution_count": 0,
      "outputs": [
        {
          "output_type": "execute_result",
          "data": {
            "text/html": [
              "<div>\n",
              "<style scoped>\n",
              "    .dataframe tbody tr th:only-of-type {\n",
              "        vertical-align: middle;\n",
              "    }\n",
              "\n",
              "    .dataframe tbody tr th {\n",
              "        vertical-align: top;\n",
              "    }\n",
              "\n",
              "    .dataframe thead th {\n",
              "        text-align: right;\n",
              "    }\n",
              "</style>\n",
              "<table border=\"1\" class=\"dataframe\">\n",
              "  <thead>\n",
              "    <tr style=\"text-align: right;\">\n",
              "      <th></th>\n",
              "      <th>date</th>\n",
              "      <th>revenue</th>\n",
              "      <th>status</th>\n",
              "      <th>store_id</th>\n",
              "    </tr>\n",
              "  </thead>\n",
              "  <tbody>\n",
              "    <tr>\n",
              "      <th>0</th>\n",
              "      <td>May 12, 2018</td>\n",
              "      <td>4000.32</td>\n",
              "      <td>closed</td>\n",
              "      <td>1254231</td>\n",
              "    </tr>\n",
              "    <tr>\n",
              "      <th>1</th>\n",
              "      <td>May 12, 2018</td>\n",
              "      <td>500.08</td>\n",
              "      <td>fraud</td>\n",
              "      <td>154321</td>\n",
              "    </tr>\n",
              "    <tr>\n",
              "      <th>2</th>\n",
              "      <td>May 12, 2018</td>\n",
              "      <td>1600.00</td>\n",
              "      <td>closed</td>\n",
              "      <td>125543</td>\n",
              "    </tr>\n",
              "    <tr>\n",
              "      <th>3</th>\n",
              "      <td>May 11, 2018</td>\n",
              "      <td>800.10</td>\n",
              "      <td>open</td>\n",
              "      <td>1254231</td>\n",
              "    </tr>\n",
              "    <tr>\n",
              "      <th>4</th>\n",
              "      <td>May 11, 2018</td>\n",
              "      <td>500.00</td>\n",
              "      <td>fraud</td>\n",
              "      <td>154321</td>\n",
              "    </tr>\n",
              "    <tr>\n",
              "      <th>5</th>\n",
              "      <td>May 11, 2018</td>\n",
              "      <td>1.00</td>\n",
              "      <td>closed</td>\n",
              "      <td>125543</td>\n",
              "    </tr>\n",
              "    <tr>\n",
              "      <th>6</th>\n",
              "      <td>May 10, 2018</td>\n",
              "      <td>1.00</td>\n",
              "      <td>open</td>\n",
              "      <td>1254231</td>\n",
              "    </tr>\n",
              "    <tr>\n",
              "      <th>7</th>\n",
              "      <td>May 10, 2018</td>\n",
              "      <td>2.00</td>\n",
              "      <td>open</td>\n",
              "      <td>154321</td>\n",
              "    </tr>\n",
              "    <tr>\n",
              "      <th>8</th>\n",
              "      <td>May 10, 2018</td>\n",
              "      <td>3.00</td>\n",
              "      <td>closed</td>\n",
              "      <td>125543</td>\n",
              "    </tr>\n",
              "  </tbody>\n",
              "</table>\n",
              "</div>"
            ],
            "text/plain": [
              "           date  revenue  status  store_id\n",
              "0  May 12, 2018  4000.32  closed   1254231\n",
              "1  May 12, 2018   500.08   fraud    154321\n",
              "2  May 12, 2018  1600.00  closed    125543\n",
              "3  May 11, 2018   800.10    open   1254231\n",
              "4  May 11, 2018   500.00   fraud    154321\n",
              "5  May 11, 2018     1.00  closed    125543\n",
              "6  May 10, 2018     1.00    open   1254231\n",
              "7  May 10, 2018     2.00    open    154321\n",
              "8  May 10, 2018     3.00  closed    125543"
            ]
          },
          "metadata": {
            "tags": []
          },
          "execution_count": 238
        }
      ]
    },
    {
      "metadata": {
        "id": "0tq8zkxV_RZ6",
        "colab_type": "code",
        "colab": {
          "base_uri": "https://localhost:8080/",
          "height": 170
        },
        "outputId": "8936bc5e-0ab0-45d3-9090-c19dcd9ac558"
      },
      "cell_type": "code",
      "source": [
        "#unique day shouldn't have unique id, id's should repeat daily\n",
        "store_account.groupby(['date','status'])['store_id'].unique()"
      ],
      "execution_count": 0,
      "outputs": [
        {
          "output_type": "execute_result",
          "data": {
            "text/plain": [
              "date          status\n",
              "May 10, 2018  closed             [125543]\n",
              "              open      [1254231, 154321]\n",
              "May 11, 2018  closed             [125543]\n",
              "              fraud              [154321]\n",
              "              open              [1254231]\n",
              "May 12, 2018  closed    [1254231, 125543]\n",
              "              fraud              [154321]\n",
              "Name: store_id, dtype: object"
            ]
          },
          "metadata": {
            "tags": []
          },
          "execution_count": 242
        }
      ]
    },
    {
      "metadata": {
        "id": "oXIzICGfzS6e",
        "colab_type": "code",
        "colab": {
          "base_uri": "https://localhost:8080/",
          "height": 142
        },
        "outputId": "5180f758-8050-4ba8-80f9-71752e684cd8"
      },
      "cell_type": "code",
      "source": [
        "#no status!=closed for may 11 is a problem\n",
        "#what percent of active stores were fraudulent by day?\n",
        "\n",
        "n_active_stores_per_day = store_account[store_account.revenue>0].groupby(['date'])['store_id'].nunique()\n",
        "n_fraud_active_stores_per_day = store_account[(store_account.revenue>0) & (store_account.status=='fraud')].groupby(['date'])['store_id'].nunique()\n",
        "                                        \n",
        "df = pd.concat([n_active_stores_per_day,n_fraud_active_stores_per_day],join='outer',axis=1).fillna(0)\n",
        "df.columns = ['n_active_stores_per_day','n_fraud_active_stores_per_day']\n",
        "df['percentage'] = df.n_fraud_active_stores_per_day/df.n_active_stores_per_day*100\n",
        "\n",
        "df"
      ],
      "execution_count": 0,
      "outputs": [
        {
          "output_type": "execute_result",
          "data": {
            "text/html": [
              "<div>\n",
              "<style scoped>\n",
              "    .dataframe tbody tr th:only-of-type {\n",
              "        vertical-align: middle;\n",
              "    }\n",
              "\n",
              "    .dataframe tbody tr th {\n",
              "        vertical-align: top;\n",
              "    }\n",
              "\n",
              "    .dataframe thead th {\n",
              "        text-align: right;\n",
              "    }\n",
              "</style>\n",
              "<table border=\"1\" class=\"dataframe\">\n",
              "  <thead>\n",
              "    <tr style=\"text-align: right;\">\n",
              "      <th></th>\n",
              "      <th>n_active_stores_per_day</th>\n",
              "      <th>n_fraud_active_stores_per_day</th>\n",
              "      <th>percentage</th>\n",
              "    </tr>\n",
              "  </thead>\n",
              "  <tbody>\n",
              "    <tr>\n",
              "      <th>May 10, 2018</th>\n",
              "      <td>3</td>\n",
              "      <td>0.0</td>\n",
              "      <td>0.000000</td>\n",
              "    </tr>\n",
              "    <tr>\n",
              "      <th>May 11, 2018</th>\n",
              "      <td>3</td>\n",
              "      <td>1.0</td>\n",
              "      <td>33.333333</td>\n",
              "    </tr>\n",
              "    <tr>\n",
              "      <th>May 12, 2018</th>\n",
              "      <td>3</td>\n",
              "      <td>1.0</td>\n",
              "      <td>33.333333</td>\n",
              "    </tr>\n",
              "  </tbody>\n",
              "</table>\n",
              "</div>"
            ],
            "text/plain": [
              "              n_active_stores_per_day  n_fraud_active_stores_per_day  \\\n",
              "May 10, 2018                        3                            0.0   \n",
              "May 11, 2018                        3                            1.0   \n",
              "May 12, 2018                        3                            1.0   \n",
              "\n",
              "              percentage  \n",
              "May 10, 2018    0.000000  \n",
              "May 11, 2018   33.333333  \n",
              "May 12, 2018   33.333333  "
            ]
          },
          "metadata": {
            "tags": []
          },
          "execution_count": 240
        }
      ]
    },
    {
      "metadata": {
        "id": "X3w2oHDPt_Xz",
        "colab_type": "code",
        "colab": {
          "base_uri": "https://localhost:8080/",
          "height": 173
        },
        "outputId": "8cf391b0-0bb9-41c1-d435-1d54b5ce97d9"
      },
      "cell_type": "code",
      "source": [
        "#pivot table to understand better and force entries for all date-store combos\n",
        "\n",
        "id_vs_date = store_account.pivot(index='store_id',columns='date',values='status')\n",
        "id_vs_date"
      ],
      "execution_count": 0,
      "outputs": [
        {
          "output_type": "execute_result",
          "data": {
            "text/html": [
              "<div>\n",
              "<style scoped>\n",
              "    .dataframe tbody tr th:only-of-type {\n",
              "        vertical-align: middle;\n",
              "    }\n",
              "\n",
              "    .dataframe tbody tr th {\n",
              "        vertical-align: top;\n",
              "    }\n",
              "\n",
              "    .dataframe thead th {\n",
              "        text-align: right;\n",
              "    }\n",
              "</style>\n",
              "<table border=\"1\" class=\"dataframe\">\n",
              "  <thead>\n",
              "    <tr style=\"text-align: right;\">\n",
              "      <th>date</th>\n",
              "      <th>May 10, 2018</th>\n",
              "      <th>May 11, 2018</th>\n",
              "      <th>May 12, 2018</th>\n",
              "    </tr>\n",
              "    <tr>\n",
              "      <th>store_id</th>\n",
              "      <th></th>\n",
              "      <th></th>\n",
              "      <th></th>\n",
              "    </tr>\n",
              "  </thead>\n",
              "  <tbody>\n",
              "    <tr>\n",
              "      <th>125543</th>\n",
              "      <td>closed</td>\n",
              "      <td>closed</td>\n",
              "      <td>closed</td>\n",
              "    </tr>\n",
              "    <tr>\n",
              "      <th>154321</th>\n",
              "      <td>open</td>\n",
              "      <td>fraud</td>\n",
              "      <td>fraud</td>\n",
              "    </tr>\n",
              "    <tr>\n",
              "      <th>1254231</th>\n",
              "      <td>open</td>\n",
              "      <td>open</td>\n",
              "      <td>closed</td>\n",
              "    </tr>\n",
              "  </tbody>\n",
              "</table>\n",
              "</div>"
            ],
            "text/plain": [
              "date     May 10, 2018 May 11, 2018 May 12, 2018\n",
              "store_id                                       \n",
              "125543         closed       closed       closed\n",
              "154321           open        fraud        fraud\n",
              "1254231          open         open       closed"
            ]
          },
          "metadata": {
            "tags": []
          },
          "execution_count": 243
        }
      ]
    },
    {
      "metadata": {
        "id": "ZPc2hp3YlVIe",
        "colab_type": "code",
        "colab": {
          "base_uri": "https://localhost:8080/",
          "height": 68
        },
        "outputId": "5f5dd599-86a0-42fc-fd15-c3fdab904054"
      },
      "cell_type": "code",
      "source": [
        "id_vs_date.iloc[:,0].value_counts()"
      ],
      "execution_count": 0,
      "outputs": [
        {
          "output_type": "execute_result",
          "data": {
            "text/plain": [
              "open      2\n",
              "closed    1\n",
              "Name: May 10, 2018, dtype: int64"
            ]
          },
          "metadata": {
            "tags": []
          },
          "execution_count": 244
        }
      ]
    },
    {
      "metadata": {
        "id": "rQznybR4uOOc",
        "colab_type": "code",
        "colab": {
          "base_uri": "https://localhost:8080/",
          "height": 136
        },
        "outputId": "e29621b9-b892-4449-d866-88cb67ccc636"
      },
      "cell_type": "code",
      "source": [
        "#redo with pivot_table\n",
        "pt = pd.pivot_table(store_account, index=['date'], columns=['status'], values=['store_id'],aggfunc='count',\n",
        "                    margins=True,margins_name='Sum').fillna(0)\n",
        "pt['percentage'] = pt.store_id.fraud/pt.store_id.Sum*100\n",
        "#print(pt.info())\n",
        "print(pt)"
      ],
      "execution_count": 0,
      "outputs": [
        {
          "output_type": "stream",
          "text": [
            "             store_id                percentage\n",
            "status         closed fraud open Sum           \n",
            "date                                           \n",
            "May 10, 2018      1.0   0.0  2.0   3   0.000000\n",
            "May 11, 2018      1.0   1.0  1.0   3  33.333333\n",
            "May 12, 2018      2.0   1.0  0.0   3  33.333333\n",
            "Sum               4.0   2.0  3.0   9  22.222222\n"
          ],
          "name": "stdout"
        }
      ]
    },
    {
      "metadata": {
        "id": "2ls2RUYJW8R4",
        "colab_type": "code",
        "colab": {}
      },
      "cell_type": "code",
      "source": [
        ""
      ],
      "execution_count": 0,
      "outputs": []
    },
    {
      "metadata": {
        "id": "MEgZkLbPW8P3",
        "colab_type": "code",
        "colab": {}
      },
      "cell_type": "code",
      "source": [
        ""
      ],
      "execution_count": 0,
      "outputs": []
    },
    {
      "metadata": {
        "id": "_bl7WMAQW8Ny",
        "colab_type": "code",
        "colab": {}
      },
      "cell_type": "code",
      "source": [
        ""
      ],
      "execution_count": 0,
      "outputs": []
    },
    {
      "metadata": {
        "id": "6c_Tv_wr2-VE",
        "colab_type": "code",
        "colab": {}
      },
      "cell_type": "code",
      "source": [
        "# change date to datetime object as the index, but keep the data column as strings\n",
        "#store_account = store_account.set_index(pd.to_datetime(store_account.date))\n",
        "#could try with resample too I guess"
      ],
      "execution_count": 0,
      "outputs": []
    }
  ]
}